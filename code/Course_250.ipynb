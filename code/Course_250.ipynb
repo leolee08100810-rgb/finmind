{
  "nbformat": 4,
  "nbformat_minor": 0,
  "metadata": {
    "colab": {
      "provenance": []
    },
    "kernelspec": {
      "name": "python3",
      "display_name": "Python 3"
    },
    "language_info": {
      "name": "python"
    }
  },
  "cells": [
    {
      "cell_type": "markdown",
      "source": [
        "[![](https://mermaid.ink/img/pako:eNptkc1Kw0AYRV9lmHX6AlkIbdPWjStdOcliaKZNoPkhThaSFEqlJdhNQF2IEolQUYTiX6WCxZdxkvEtTJNaIzirOd89DMN3Pdi2VAJF2HWwrYE9STZBdqroc_mRnt7ywYi_L9hoqoBKZQvUULpYprM4Dceg2iUmVQq9lqd1jwXjJAr5_SR5HH7FEYsm_UKorwSfD2N29JZcTfndtQ8kVGb2ELDZq1LWk-MBj0-KN33QQGX-R-dPMZuc_-hNVOY_upT_toWSsxcWBuk8TKLLddQoogKaZWjlsI3YRcSGz-n8ZrMgBQrQII6BdTXbo7fSZUg1YhAZitlVJR3s9qgMZbOfqdil1u6h2YYidVwiQNdWMSWSjrMGDCh2cO9gM22oOrWczdDG5r5l_Uokj3eKAvMeBehYbldbG_1vkoHPkw?type=png)](https://mermaid.live/edit#pako:eNptkc1Kw0AYRV9lmHX6AlkIbdPWjStdOcliaKZNoPkhThaSFEqlJdhNQF2IEolQUYTiX6WCxZdxkvEtTJNaIzirOd89DMN3Pdi2VAJF2HWwrYE9STZBdqroc_mRnt7ywYi_L9hoqoBKZQvUULpYprM4Dceg2iUmVQq9lqd1jwXjJAr5_SR5HH7FEYsm_UKorwSfD2N29JZcTfndtQ8kVGb2ELDZq1LWk-MBj0-KN33QQGX-R-dPMZuc_-hNVOY_upT_toWSsxcWBuk8TKLLddQoogKaZWjlsI3YRcSGz-n8ZrMgBQrQII6BdTXbo7fSZUg1YhAZitlVJR3s9qgMZbOfqdil1u6h2YYidVwiQNdWMSWSjrMGDCh2cO9gM22oOrWczdDG5r5l_Uokj3eKAvMeBehYbldbG_1vkoHPkw)"
      ],
      "metadata": {
        "id": "tF3gHmNoL9Pe"
      }
    },
    {
      "cell_type": "code",
      "source": [
        "%%capture\n",
        "! pip install git+https://github.com/openai/swarm.git\n",
        "! pip install pandas_ta"
      ],
      "metadata": {
        "id": "wBEMitvpHhkr"
      },
      "execution_count": 1,
      "outputs": []
    },
    {
      "cell_type": "code",
      "execution_count": 2,
      "metadata": {
        "id": "xo7rWj4UHMB-"
      },
      "outputs": [],
      "source": [
        "import yfinance as yf\n",
        "from swarm import Swarm, Agent\n",
        "import pandas_ta as ta\n",
        "import pandas as pd\n",
        "import os"
      ]
    },
    {
      "cell_type": "code",
      "source": [
        "from google.colab import userdata\n",
        "os.environ[\"OPENAI_API_KEY\"] = userdata.get('OPENAI_API_KEY')"
      ],
      "metadata": {
        "id": "rX83JokTIZUS",
        "outputId": "0eb49bc3-59a5-423f-c9b7-9d08ff8bd6fb",
        "colab": {
          "base_uri": "https://localhost:8080/",
          "height": 289
        }
      },
      "execution_count": 3,
      "outputs": [
        {
          "output_type": "error",
          "ename": "SecretNotFoundError",
          "evalue": "Secret OPENAI_API_KEY does not exist.",
          "traceback": [
            "\u001b[0;31m---------------------------------------------------------------------------\u001b[0m",
            "\u001b[0;31mSecretNotFoundError\u001b[0m                       Traceback (most recent call last)",
            "\u001b[0;32m/tmp/ipython-input-558617876.py\u001b[0m in \u001b[0;36m<cell line: 0>\u001b[0;34m()\u001b[0m\n\u001b[1;32m      1\u001b[0m \u001b[0;32mfrom\u001b[0m \u001b[0mgoogle\u001b[0m\u001b[0;34m.\u001b[0m\u001b[0mcolab\u001b[0m \u001b[0;32mimport\u001b[0m \u001b[0muserdata\u001b[0m\u001b[0;34m\u001b[0m\u001b[0;34m\u001b[0m\u001b[0m\n\u001b[0;32m----> 2\u001b[0;31m \u001b[0mos\u001b[0m\u001b[0;34m.\u001b[0m\u001b[0menviron\u001b[0m\u001b[0;34m[\u001b[0m\u001b[0;34m\"OPENAI_API_KEY\"\u001b[0m\u001b[0;34m]\u001b[0m \u001b[0;34m=\u001b[0m \u001b[0muserdata\u001b[0m\u001b[0;34m.\u001b[0m\u001b[0mget\u001b[0m\u001b[0;34m(\u001b[0m\u001b[0;34m'OPENAI_API_KEY'\u001b[0m\u001b[0;34m)\u001b[0m\u001b[0;34m\u001b[0m\u001b[0;34m\u001b[0m\u001b[0m\n\u001b[0m",
            "\u001b[0;32m/usr/local/lib/python3.12/dist-packages/google/colab/userdata.py\u001b[0m in \u001b[0;36mget\u001b[0;34m(key)\u001b[0m\n\u001b[1;32m     66\u001b[0m     \u001b[0;32mraise\u001b[0m \u001b[0mTimeoutException\u001b[0m\u001b[0;34m(\u001b[0m\u001b[0mkey\u001b[0m\u001b[0;34m)\u001b[0m\u001b[0;34m\u001b[0m\u001b[0;34m\u001b[0m\u001b[0m\n\u001b[1;32m     67\u001b[0m   \u001b[0;32mif\u001b[0m \u001b[0;32mnot\u001b[0m \u001b[0mresp\u001b[0m\u001b[0;34m.\u001b[0m\u001b[0mget\u001b[0m\u001b[0;34m(\u001b[0m\u001b[0;34m'exists'\u001b[0m\u001b[0;34m,\u001b[0m \u001b[0;32mFalse\u001b[0m\u001b[0;34m)\u001b[0m\u001b[0;34m:\u001b[0m\u001b[0;34m\u001b[0m\u001b[0;34m\u001b[0m\u001b[0m\n\u001b[0;32m---> 68\u001b[0;31m     \u001b[0;32mraise\u001b[0m \u001b[0mSecretNotFoundError\u001b[0m\u001b[0;34m(\u001b[0m\u001b[0mkey\u001b[0m\u001b[0;34m)\u001b[0m\u001b[0;34m\u001b[0m\u001b[0;34m\u001b[0m\u001b[0m\n\u001b[0m\u001b[1;32m     69\u001b[0m   \u001b[0;32mif\u001b[0m \u001b[0;32mnot\u001b[0m \u001b[0mresp\u001b[0m\u001b[0;34m.\u001b[0m\u001b[0mget\u001b[0m\u001b[0;34m(\u001b[0m\u001b[0;34m'access'\u001b[0m\u001b[0;34m,\u001b[0m \u001b[0;32mFalse\u001b[0m\u001b[0;34m)\u001b[0m\u001b[0;34m:\u001b[0m\u001b[0;34m\u001b[0m\u001b[0;34m\u001b[0m\u001b[0m\n\u001b[1;32m     70\u001b[0m     \u001b[0;32mraise\u001b[0m \u001b[0mNotebookAccessError\u001b[0m\u001b[0;34m(\u001b[0m\u001b[0mkey\u001b[0m\u001b[0;34m)\u001b[0m\u001b[0;34m\u001b[0m\u001b[0;34m\u001b[0m\u001b[0m\n",
            "\u001b[0;31mSecretNotFoundError\u001b[0m: Secret OPENAI_API_KEY does not exist."
          ]
        }
      ]
    },
    {
      "cell_type": "code",
      "source": [
        "# 股價走勢查詢函數\n",
        "def get_stock_price_history(symbol, period = \"1mo\"):\n",
        "    try:\n",
        "        stock = yf.Ticker(symbol)\n",
        "        history = stock.history(period=period)\n",
        "        return history.tail().to_dict('records')\n",
        "    except:\n",
        "        return f\"無法獲取 {symbol} 的歷史價格\""
      ],
      "metadata": {
        "id": "i9sx9IOpHYMR"
      },
      "execution_count": null,
      "outputs": []
    },
    {
      "cell_type": "code",
      "source": [
        "get_stock_price_history('2330.TW')"
      ],
      "metadata": {
        "collapsed": true,
        "id": "6iX-5dj1RmXb"
      },
      "execution_count": null,
      "outputs": []
    },
    {
      "cell_type": "code",
      "source": [
        "# 股票資訊查詢函數\n",
        "def get_stock_info(symbol):\n",
        "    try:\n",
        "        stock = yf.Ticker(symbol)\n",
        "        info = stock.info\n",
        "        return {\n",
        "            '公司名稱': info.get('longName', 'N/A'),\n",
        "            '現價': info.get('currentPrice', 'N/A'),\n",
        "            '市值': info.get('marketCap', 'N/A'),\n",
        "            '產業': info.get('industry', 'N/A'),\n",
        "            '52週高點': info.get('fiftyTwoWeekHigh', 'N/A'),\n",
        "            '52週低點': info.get('fiftyTwoWeekLow', 'N/A')\n",
        "        }\n",
        "    except:\n",
        "        return f\"無法獲取 {symbol} 的資訊\""
      ],
      "metadata": {
        "id": "nLiHIs10HXV5"
      },
      "execution_count": null,
      "outputs": []
    },
    {
      "cell_type": "code",
      "source": [
        "get_stock_info('2330.TW')"
      ],
      "metadata": {
        "id": "TsgO7ThxRvZ8"
      },
      "execution_count": null,
      "outputs": []
    },
    {
      "cell_type": "code",
      "source": [
        "# 基本財務數據查詢函數\n",
        "def get_financial_data(symbol):\n",
        "    try:\n",
        "        stock = yf.Ticker(symbol)\n",
        "        # 獲取最近的財務報表\n",
        "        financials = stock.financials.iloc[:, 0]\n",
        "        balance_sheet = stock.balance_sheet.iloc[:, 0]\n",
        "        return {\n",
        "            '營收': financials.get('Total Revenue', 'N/A'),\n",
        "            '淨利': financials.get('Net Income', 'N/A'),\n",
        "            '總資產': balance_sheet.get('Total Assets', 'N/A'),\n",
        "            '總負債': balance_sheet.get('Total Liabilities Net Minority Interest', 'N/A'),\n",
        "            'ROE': stock.info.get('returnOnEquity', 'N/A'),\n",
        "            '本益比': stock.info.get('trailingPE', 'N/A')\n",
        "        }\n",
        "    except:\n",
        "        return f\"無法獲取 {symbol} 的財務數據\""
      ],
      "metadata": {
        "id": "LoDxsIejH-m2"
      },
      "execution_count": null,
      "outputs": []
    },
    {
      "cell_type": "code",
      "source": [
        "get_financial_data('2330.TW')"
      ],
      "metadata": {
        "id": "h30PkxbFR3M5"
      },
      "execution_count": null,
      "outputs": []
    },
    {
      "cell_type": "code",
      "source": [
        "# 技術分析函數\n",
        "def get_technical_analysis(symbol, period= \"6mo\"):\n",
        "    try:\n",
        "        # 獲取歷史數據\n",
        "        stock = yf.Ticker(symbol)\n",
        "        df = stock.history(period=period)\n",
        "\n",
        "        # 計算技術指標\n",
        "        # RSI\n",
        "        df['RSI'] = ta.rsi(df['Close'], length=14)\n",
        "\n",
        "        # MACD\n",
        "        macd = ta.macd(df['Close'])\n",
        "        df = pd.concat([df, macd], axis=1)\n",
        "\n",
        "        # 移動平均線\n",
        "        df['SMA_20'] = ta.sma(df['Close'], length=20)\n",
        "        df['SMA_60'] = ta.sma(df['Close'], length=60)\n",
        "\n",
        "        # KD指標\n",
        "        stoch = ta.stoch(df['High'], df['Low'], df['Close'])\n",
        "        df = pd.concat([df, stoch], axis=1)\n",
        "\n",
        "        # 取最新的技術指標數據\n",
        "        latest = df.iloc[-1]\n",
        "\n",
        "        analysis_result = {\n",
        "            'RSI': round(latest['RSI'], 2),\n",
        "            'MACD': round(latest['MACD_12_26_9'], 2),\n",
        "            'MACD_Signal': round(latest['MACDs_12_26_9'], 2),\n",
        "            'SMA_20': round(latest['SMA_20'], 2),\n",
        "            'SMA_60': round(latest['SMA_60'], 2),\n",
        "            'K值': round(latest['STOCHk_14_3_3'], 2),\n",
        "            'D值': round(latest['STOCHd_14_3_3'], 2),\n",
        "            '收盤價': round(latest['Close'], 2)\n",
        "        }\n",
        "\n",
        "        # 產生技術分析信號\n",
        "        signals = generate_trading_signals(analysis_result)\n",
        "\n",
        "        return {\n",
        "            'indicators': analysis_result,\n",
        "            'signals': signals,\n",
        "            'historical_data': df.tail().to_dict('records')\n",
        "        }\n",
        "\n",
        "    except Exception as e:\n",
        "        return f\"無法進行技術分析: {str(e)}\""
      ],
      "metadata": {
        "id": "YQyKmSOrIAw_"
      },
      "execution_count": null,
      "outputs": []
    },
    {
      "cell_type": "code",
      "source": [
        "def generate_trading_signals(data):\n",
        "    signals = []\n",
        "\n",
        "    # RSI 分析\n",
        "    if data['RSI'] > 70:\n",
        "        signals.append(\"RSI 顯示超買情況\")\n",
        "    elif data['RSI'] < 30:\n",
        "        signals.append(\"RSI 顯示超賣情況\")\n",
        "\n",
        "    # MACD 分析\n",
        "    if data['MACD'] > data['MACD_Signal']:\n",
        "        signals.append(\"MACD 形成黃金交叉\")\n",
        "    elif data['MACD'] < data['MACD_Signal']:\n",
        "        signals.append(\"MACD 形成死亡交叉\")\n",
        "\n",
        "    # KD 分析\n",
        "    if data['K值'] < 20 and data['D值'] < 20:\n",
        "        signals.append(\"KD 指標處於超賣區\")\n",
        "    elif data['K值'] > 80 and data['D值'] > 80:\n",
        "        signals.append(\"KD 指標處於超買區\")\n",
        "\n",
        "    # 均線分析\n",
        "    if data['SMA_20'] > data['SMA_60']:\n",
        "        signals.append(\"20日均線突破60日均線\")\n",
        "    elif data['SMA_20'] < data['SMA_60']:\n",
        "        signals.append(\"20日均線跌破60日均線\")\n",
        "\n",
        "    return signals"
      ],
      "metadata": {
        "id": "VSEIh6AQICHH"
      },
      "execution_count": null,
      "outputs": []
    },
    {
      "cell_type": "code",
      "source": [
        "get_technical_analysis('2330.TW')"
      ],
      "metadata": {
        "id": "rSdlsNK-SLVT"
      },
      "execution_count": null,
      "outputs": []
    },
    {
      "cell_type": "code",
      "source": [
        "# 總管理 Agent 的指令\n",
        "general_agent = Agent(\n",
        "    name=\"總管理Agent\",\n",
        "    instructions=\"\"\"你是股票市場查詢的總管理者。\n",
        "    根據使用者的問題類型，將請求轉發給適當的專家：\n",
        "    - 股價相關問題 -> 股價查詢專家\n",
        "    - 財務數據相關問題 -> 財務分析專家\n",
        "    - 技術指標相關問題 -> 技術分析專家\n",
        "    如果使用者想要完整分析，可以依序調用多個專家的服務。\"\"\",\n",
        "    functions=[get_stock_info, get_financial_data, get_technical_analysis]\n",
        ")\n",
        "\n",
        "# 股價查詢專家 Agent\n",
        "price_agent = Agent(\n",
        "    name=\"股價查詢專家\",\n",
        "    instructions=\"\"\"你是專門處理股價查詢的專家。\n",
        "    使用 get_stock_info 和 get_stock_price_history 函數來回答：\n",
        "    - 即時股價\n",
        "    - 歷史走勢\n",
        "    - 52週高低點等資訊\n",
        "    請用專業且易懂的方式解釋數據。\"\"\",\n",
        "    functions=[get_stock_info, get_stock_price_history]\n",
        ")\n",
        "\n",
        "# 創建財務分析專家 Agent\n",
        "financial_agent = Agent(\n",
        "    name=\"財務分析專家\",\n",
        "    instructions=\"\"\"你是專門分析財務數據的專家。\n",
        "    使用 get_financial_data 函數來分析：\n",
        "    - 基本財務指標\n",
        "    - 獲利能力\n",
        "    - 財務結構\n",
        "    提供專業的財務分析建議。\"\"\",\n",
        "    functions=[get_financial_data]\n",
        ")\n",
        "\n",
        "# 技術分析專家 Agent\n",
        "technical_agent = Agent(\n",
        "    name=\"技術分析專家\",\n",
        "    instructions=\"\"\"你是專門進行技術分析的專家。\n",
        "    使用 get_technical_analysis 函數來分析：\n",
        "    - RSI、MACD、KD等技術指標\n",
        "    - 移動平均線\n",
        "    - 產生交易信號\n",
        "    請用專業且易懂的方式解釋技術分析結果，並提供可能的交易建議。\n",
        "    記得提醒使用者技術分析僅供參考，需要綜合其他因素做決定。\"\"\",\n",
        "    functions=[get_technical_analysis]\n",
        ")\n",
        "\n",
        "# 創建 Swarm client\n",
        "client = Swarm()\n",
        "\n"
      ],
      "metadata": {
        "id": "FoyhWXcwIEk9"
      },
      "execution_count": null,
      "outputs": []
    },
    {
      "cell_type": "code",
      "source": [
        "print(\"歡迎使用股票市場助手！\")\n",
        "print(\"您可以詢問：\")\n",
        "print(\"1. 股票即時報價與走勢\")\n",
        "print(\"2. 基本財務分析\")\n",
        "print(\"3. 基本技術分析\")\n",
        "print(\"請輸入股票代號（例如：2330.TW）和您的問題。\")\n",
        "\n",
        "context_variables = {}\n",
        "current_agent = general_agent\n",
        "\n",
        "while True:\n",
        "    user_input = input(\"\\n您的問題: \")\n",
        "    if user_input.lower() in ['exit', 'quit', 'bye']:\n",
        "        print(\"謝謝使用，再見！\")\n",
        "        break\n",
        "\n",
        "    response = client.run(\n",
        "        agent=current_agent,\n",
        "        messages=[{\"role\": \"user\", \"content\": user_input}],\n",
        "        context_variables=context_variables\n",
        "    )\n",
        "\n",
        "    print(f\"\\n{response.agent.name}:\", response.messages[-1][\"content\"])\n",
        "    current_agent = response.agent\n",
        "    context_variables = response.context_variables\n"
      ],
      "metadata": {
        "collapsed": true,
        "id": "OBPznZIyIOR5"
      },
      "execution_count": null,
      "outputs": []
    },
    {
      "cell_type": "code",
      "source": [],
      "metadata": {
        "id": "SogSgoyoIr9T"
      },
      "execution_count": null,
      "outputs": []
    }
  ]
}